{
 "cells": [
  {
   "cell_type": "code",
   "execution_count": 34,
   "id": "39d5a8f2",
   "metadata": {},
   "outputs": [],
   "source": [
    "import requests\n",
    "from bs4 import BeautifulSoup"
   ]
  },
  {
   "cell_type": "code",
   "execution_count": 35,
   "id": "3fa1e9e7",
   "metadata": {},
   "outputs": [],
   "source": [
    "url = \"https://www.aljazeera.com/where/mozambique/\"\n",
    "def getHTMLdocument(url):\n",
    "    response = requests.get(url)\n",
    "    return response.text\n",
    "\n",
    "aljazeera_paper = getHTMLdocument(url)"
   ]
  },
  {
   "cell_type": "code",
   "execution_count": 36,
   "id": "7c0b793f",
   "metadata": {},
   "outputs": [
    {
     "name": "stdout",
     "output_type": "stream",
     "text": [
      "['https://www.aljazeera.com/news/2022/5/23/floods-hit-south-africas-kwazulu-natal-province-again', 'https://www.aljazeera.com/news/2022/3/18/mozambique-cyclone-gombe-death-toll-rises-to-53', 'https://www.aljazeera.com/news/2022/3/4/mozambique-announces-new-prime-minister-and-finance-minister', 'https://www.aljazeera.com/economy/2022/3/1/analysis-can-african-gas-replace-russian-supplies-to-europe', 'https://www.aljazeera.com/news/2022/1/27/at-least-70-dead-from-tropical-storm-ana-in-southern-africa', 'https://www.aljazeera.com/news/2022/1/12/southern-africa-bloc-sadc-extends-mozambique-mission', 'https://www.aljazeera.com/program/start-here/2021/10/3/climate-change-and-famine-start-here', 'https://www.aljazeera.com/news/2021/9/24/in-mozambique-kagame-says-rwandan-troops-presence-to-continue', 'https://www.aljazeera.com/news/2021/8/8/rwanda-mozambique-forces-recapture-port-city-from-rebels', 'https://www.aljazeera.com/news/2021/7/10/rwanda-deploys-1000-soldiers-to-mozambique-cabo-delgado', 'https://www.aljazeera.com/news/2021/6/23/southern-african-nations-agree-to-deploy-forces-to-mozambique', 'https://www.aljazeera.com/news/2021/6/20/infographic-world-refugee-day-journey', 'https://www.aljazeera.com/news/2021/6/9/dozens-of-children-mostly-girls-abducted-by-mozambique-fighters', 'https://www.aljazeera.com/news/2021/5/14/whites-prioritised-ahead-of-black-people-in-palma-rescue-amnesty']\n"
     ]
    }
   ],
   "source": [
    "base_url = \"https://www.aljazeera.com\"\n",
    "soup = BeautifulSoup(aljazeera_paper, 'html.parser')\n",
    "all_articles = soup.find_all(\"a\", {\"class\": \"u-clickable-card__link\"})\n",
    "\n",
    "article_links = [base_url + article['href'] for article in all_articles]\n",
    "print(article_links)"
   ]
  },
  {
   "cell_type": "code",
   "execution_count": 37,
   "id": "7b858f5e",
   "metadata": {},
   "outputs": [
    {
     "name": "stderr",
     "output_type": "stream",
     "text": [
      "100%|██████████| 14/14 [00:07<00:00,  1.89it/s]\n"
     ]
    }
   ],
   "source": [
    "from newspaper import Article\n",
    "import json\n",
    "from tqdm import tqdm\n",
    "\n",
    "article_collections = []\n",
    "\n",
    "# article_url = article_links[0]\n",
    "# article = Article(article_url)\n",
    "# article.download()\n",
    "# article.parse()\n",
    "# article_soup = BeautifulSoup(article.html, 'html.parser')\n",
    "# article_soup.find(\"p\", {\"class\": \"article__subhead\"}).find('em').string\n",
    "\n",
    "for article_url in tqdm(article_links):\n",
    "    article = Article(article_url)\n",
    "    article.download()\n",
    "    article.parse()\n",
    "    article_soup = BeautifulSoup(article.html, 'html.parser')\n",
    "    subtitle = ''\n",
    "    try:\n",
    "        subtitle =  article_soup.find(\"p\", {\"class\": \"article__subhead\"}).find('em').string\n",
    "    except:\n",
    "        pass\n",
    "    article_collections.append(\n",
    "        { 'title': article.title, 'subtitle': subtitle, 'content': article.text }\n",
    "    )\n",
    "\n",
    "# print(len(article_collections))\n",
    "with open('data.json', 'w') as f:\n",
    "    json.dump(article_collections, f)\n",
    "\n",
    "# json.dumps(article_collections)"
   ]
  },
  {
   "cell_type": "markdown",
   "id": "31923295",
   "metadata": {},
   "source": [
    "# Sentiment Analysis"
   ]
  },
  {
   "cell_type": "code",
   "execution_count": 38,
   "id": "1f92971c",
   "metadata": {},
   "outputs": [
    {
     "name": "stderr",
     "output_type": "stream",
     "text": [
      "[nltk_data] Downloading package stopwords to\n",
      "[nltk_data]     /Users/rhythmgirdhar/nltk_data...\n",
      "[nltk_data]   Package stopwords is already up-to-date!\n",
      "[nltk_data] Downloading package punkt to\n",
      "[nltk_data]     /Users/rhythmgirdhar/nltk_data...\n",
      "[nltk_data]   Package punkt is already up-to-date!\n",
      "[nltk_data] Downloading package vader_lexicon to\n",
      "[nltk_data]     /Users/rhythmgirdhar/nltk_data...\n",
      "[nltk_data]   Package vader_lexicon is already up-to-date!\n"
     ]
    },
    {
     "data": {
      "text/plain": [
       "True"
      ]
     },
     "execution_count": 38,
     "metadata": {},
     "output_type": "execute_result"
    }
   ],
   "source": [
    "import nltk\n",
    "nltk.download('stopwords')\n",
    "nltk.download('punkt')\n",
    "nltk.download('vader_lexicon')"
   ]
  },
  {
   "cell_type": "code",
   "execution_count": 39,
   "id": "09e8900d",
   "metadata": {},
   "outputs": [],
   "source": [
    "import json\n",
    "with open('data.json') as f:\n",
    "    data = json.load(f)"
   ]
  },
  {
   "cell_type": "code",
   "execution_count": 40,
   "id": "d17f1397",
   "metadata": {},
   "outputs": [],
   "source": [
    "stopwords = nltk.corpus.stopwords.words(\"english\")"
   ]
  },
  {
   "cell_type": "code",
   "execution_count": 41,
   "id": "09fab14d",
   "metadata": {},
   "outputs": [
    {
     "name": "stdout",
     "output_type": "stream",
     "text": [
      "14\n"
     ]
    }
   ],
   "source": [
    "import copy\n",
    "\n",
    "cleaned_data = copy.deepcopy(data)\n",
    "preprocessed_data = []\n",
    "for each in cleaned_data:\n",
    "    each['content'] = nltk.word_tokenize(each['content'])\n",
    "    each['content'] = [w for w in each['content'] if w.lower() not in stopwords]\n",
    "    each['content'] = [w for w in each['content'] if w.lower() not in [\",\", \".\", \"(\", \")\", \"”\", \"[\", \"]\", \"“\", \"’\", \":\", \"–\"]]\n",
    "    preprocessed_data.append(\" \".join([w.lower() for w in each['content']]))\n",
    "\n",
    "print(len(preprocessed_data))"
   ]
  },
  {
   "cell_type": "markdown",
   "id": "38c12d62",
   "metadata": {},
   "source": [
    "## Sentiment Analysis for the Article Content only "
   ]
  },
  {
   "cell_type": "code",
   "execution_count": 50,
   "id": "7384f077",
   "metadata": {},
   "outputs": [
    {
     "name": "stdout",
     "output_type": "stream",
     "text": [
      "-0.15685625\n",
      "-0.7474714285714286\n",
      "-0.03154000000000001\n",
      "0.18046666666666666\n",
      "-0.360745\n",
      "0.160475\n",
      "-0.31245\n",
      "-0.16955135135135135\n",
      "0.03320000000000001\n",
      "-0.2301764705882353\n",
      "-0.319995\n",
      "-0.1600921875\n",
      "-0.389468\n",
      "-0.03635\n",
      "\n",
      "\n",
      "-------After Pre-processed Data-------\n",
      "\n",
      "\n",
      "-0.68235\n",
      "-0.9933\n",
      "-0.304\n",
      "0.5121142857142857\n",
      "-0.9957\n",
      "0.946\n",
      "-0.6249\n",
      "-0.4469\n",
      "0.5859\n",
      "-0.7179\n",
      "-0.9949\n",
      "-0.418925\n",
      "-0.9894499999999999\n",
      "-0.3142333333333333\n"
     ]
    }
   ],
   "source": [
    "from nltk.sentiment import SentimentIntensityAnalyzer\n",
    "from statistics import mean\n",
    "\n",
    "sia = SentimentIntensityAnalyzer()\n",
    "for each in data:\n",
    "    scores = [sia.polarity_scores(sentence)[\"compound\"] for sentence in nltk.sent_tokenize(each['content'])]\n",
    "    print(mean(scores))\n",
    "print(\"\\n\")\n",
    "print(\"-------After Pre-processed Data-------\")\n",
    "print(\"\\n\")\n",
    "for each in preprocessed_data:\n",
    "    scores = [sia.polarity_scores(sentence)[\"compound\"] for sentence in nltk.sent_tokenize(each)]\n",
    "    print(mean(scores))"
   ]
  },
  {
   "cell_type": "markdown",
   "id": "aa2f7fb1",
   "metadata": {},
   "source": [
    "## Sentiment Analysis using Title, Subtitle, and Content"
   ]
  },
  {
   "cell_type": "code",
   "execution_count": 59,
   "id": "115d7385",
   "metadata": {},
   "outputs": [
    {
     "ename": "TypeError",
     "evalue": "'value' is an invalid keyword argument for max()",
     "output_type": "error",
     "traceback": [
      "\u001b[0;31m---------------------------------------------------------------------------\u001b[0m",
      "\u001b[0;31mTypeError\u001b[0m                                 Traceback (most recent call last)",
      "\u001b[1;32m/Users/rhythmgirdhar/Desktop/MS CS/Projects/MINDScraper/Minds.ipynb Cell 13'\u001b[0m in \u001b[0;36m<cell line: 5>\u001b[0;34m()\u001b[0m\n\u001b[1;32m      <a href='vscode-notebook-cell:/Users/rhythmgirdhar/Desktop/MS%20CS/Projects/MINDScraper/Minds.ipynb#ch0000010?line=4'>5</a>\u001b[0m \u001b[39mfor\u001b[39;00m each \u001b[39min\u001b[39;00m data:  \n\u001b[1;32m      <a href='vscode-notebook-cell:/Users/rhythmgirdhar/Desktop/MS%20CS/Projects/MINDScraper/Minds.ipynb#ch0000010?line=5'>6</a>\u001b[0m     i \u001b[39m=\u001b[39m \u001b[39m0\u001b[39m \n\u001b[0;32m----> <a href='vscode-notebook-cell:/Users/rhythmgirdhar/Desktop/MS%20CS/Projects/MINDScraper/Minds.ipynb#ch0000010?line=6'>7</a>\u001b[0m     title_score \u001b[39m=\u001b[39m \u001b[39mmax\u001b[39;49m(sia\u001b[39m.\u001b[39;49mpolarity_scores(article_collections[i][\u001b[39m'\u001b[39;49m\u001b[39mtitle\u001b[39;49m\u001b[39m'\u001b[39;49m]), value \u001b[39m=\u001b[39;49m sia\u001b[39m.\u001b[39;49mpolarity_scores(article_collections[i][\u001b[39m'\u001b[39;49m\u001b[39mtitle\u001b[39;49m\u001b[39m'\u001b[39;49m])\u001b[39m.\u001b[39;49mget)\n\u001b[1;32m      <a href='vscode-notebook-cell:/Users/rhythmgirdhar/Desktop/MS%20CS/Projects/MINDScraper/Minds.ipynb#ch0000010?line=7'>8</a>\u001b[0m     subtitle_score \u001b[39m=\u001b[39m sia\u001b[39m.\u001b[39mpolarity_scores(article_collections[i][\u001b[39m'\u001b[39m\u001b[39msubtitle\u001b[39m\u001b[39m'\u001b[39m])\n\u001b[1;32m      <a href='vscode-notebook-cell:/Users/rhythmgirdhar/Desktop/MS%20CS/Projects/MINDScraper/Minds.ipynb#ch0000010?line=8'>9</a>\u001b[0m     \u001b[39m#total_score = (50 * mean(content_score[i])) + (25 * mean(title_score)) + (25 * mean(subtitle_score))\u001b[39;00m\n",
      "\u001b[0;31mTypeError\u001b[0m: 'value' is an invalid keyword argument for max()"
     ]
    }
   ],
   "source": [
    "content_score = []\n",
    "for each in preprocessed_data:\n",
    "    content_score.append([sia.polarity_scores(sentence)[\"compound\"] for sentence in nltk.sent_tokenize(each)])\n",
    "\n",
    "for each in data:  \n",
    "    i = 0 \n",
    "    title_score = max(sia.polarity_scores(article_collections[i]['title']), key = sia.polarity_scores(article_collections[i]['title']).get)\n",
    "    subtitle_score = sia.polarity_scores(article_collections[i]['subtitle'])\n",
    "    #total_score = (50 * mean(content_score[i])) + (25 * mean(title_score)) + (25 * mean(subtitle_score))\n",
    "    print(title_score)\n",
    "    i = i + 1"
   ]
  },
  {
   "cell_type": "markdown",
   "id": "cbbffc65",
   "metadata": {},
   "source": [
    "# Visualization"
   ]
  },
  {
   "cell_type": "code",
   "execution_count": 47,
   "id": "d41d5d87",
   "metadata": {},
   "outputs": [],
   "source": [
    "import chart_studio.plotly as py\n",
    "from plotly.graph_objs import *"
   ]
  },
  {
   "cell_type": "code",
   "execution_count": null,
   "id": "02643356",
   "metadata": {},
   "outputs": [],
   "source": []
  }
 ],
 "metadata": {
  "kernelspec": {
   "display_name": "Python 3 (ipykernel)",
   "language": "python",
   "name": "python3"
  },
  "language_info": {
   "codemirror_mode": {
    "name": "ipython",
    "version": 3
   },
   "file_extension": ".py",
   "mimetype": "text/x-python",
   "name": "python",
   "nbconvert_exporter": "python",
   "pygments_lexer": "ipython3",
   "version": "3.8.10"
  }
 },
 "nbformat": 4,
 "nbformat_minor": 5
}
