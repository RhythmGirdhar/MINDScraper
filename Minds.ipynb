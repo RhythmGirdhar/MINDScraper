{
 "cells": [
  {
   "cell_type": "code",
   "execution_count": 2,
   "id": "39d5a8f2",
   "metadata": {},
   "outputs": [],
   "source": [
    "import requests\n",
    "from bs4 import BeautifulSoup"
   ]
  },
  {
   "cell_type": "code",
   "execution_count": 3,
   "id": "3fa1e9e7",
   "metadata": {},
   "outputs": [],
   "source": [
    "url = \"https://www.aljazeera.com/where/mozambique/\"\n",
    "def getHTMLdocument(url):\n",
    "    response = requests.get(url)\n",
    "    return response.text\n",
    "\n",
    "aljazeera_paper = getHTMLdocument(url)"
   ]
  },
  {
   "cell_type": "code",
   "execution_count": 4,
   "id": "7c0b793f",
   "metadata": {},
   "outputs": [],
   "source": [
    "base_url = \"https://www.aljazeera.com\"\n",
    "soup = BeautifulSoup(aljazeera_paper, 'html.parser')\n",
    "all_articles = soup.find_all(\"a\", {\"class\": \"u-clickable-card__link\"})\n",
    "\n",
    "article_links = [base_url + article['href'] for article in all_articles]"
   ]
  },
  {
   "cell_type": "code",
   "execution_count": 7,
   "id": "7b858f5e",
   "metadata": {},
   "outputs": [
    {
     "name": "stderr",
     "output_type": "stream",
     "text": [
      "100%|██████████| 14/14 [00:04<00:00,  3.32it/s]\n"
     ]
    }
   ],
   "source": [
    "from newspaper import Article\n",
    "import json\n",
    "from tqdm import tqdm\n",
    "\n",
    "article_collections = []\n",
    "\n",
    "# article_url = article_links[0]\n",
    "# article = Article(article_url)\n",
    "# article.download()\n",
    "# article.parse()\n",
    "# article_soup = BeautifulSoup(article.html, 'html.parser')\n",
    "# article_soup.find(\"p\", {\"class\": \"article__subhead\"}).find('em').string\n",
    "\n",
    "for article_url in tqdm(article_links):\n",
    "    article = Article(article_url)\n",
    "    article.download()\n",
    "    article.parse()\n",
    "    article_soup = BeautifulSoup(article.html, 'html.parser')\n",
    "    subtitle = ''\n",
    "    try:\n",
    "        subtitle =  article_soup.find(\"p\", {\"class\": \"article__subhead\"}).find('em').string\n",
    "    except:\n",
    "        pass\n",
    "    article_collections.append(\n",
    "        { 'title': article.title, 'subtitle': subtitle, 'content': article.text }\n",
    "    )\n",
    "\n",
    "# print(len(article_collections))\n",
    "with open('data.json', 'w') as f:\n",
    "    json.dump(article_collections, f)\n",
    "\n",
    "# json.dumps(article_collections)"
   ]
  },
  {
   "cell_type": "code",
   "execution_count": 8,
   "id": "0c33f809",
   "metadata": {},
   "outputs": [
    {
     "name": "stderr",
     "output_type": "stream",
     "text": [
      "[nltk_data] Downloading package names to\n",
      "[nltk_data]     /Users/rhythmgirdhar/nltk_data...\n",
      "[nltk_data]   Unzipping corpora/names.zip.\n",
      "[nltk_data] Downloading package stopwords to\n",
      "[nltk_data]     /Users/rhythmgirdhar/nltk_data...\n",
      "[nltk_data]   Unzipping corpora/stopwords.zip.\n",
      "[nltk_data] Downloading package punkt to\n",
      "[nltk_data]     /Users/rhythmgirdhar/nltk_data...\n",
      "[nltk_data]   Unzipping tokenizers/punkt.zip.\n"
     ]
    },
    {
     "data": {
      "text/plain": [
       "True"
      ]
     },
     "execution_count": 8,
     "metadata": {},
     "output_type": "execute_result"
    }
   ],
   "source": [
    "import nltk\n",
    "\n",
    "nltk.download([\n",
    "    \"names\",\n",
    "    \"stopwords\",\n",
    "    \"punkt\"\n",
    "])"
   ]
  },
  {
   "cell_type": "code",
   "execution_count": 12,
   "id": "e4bdd926",
   "metadata": {},
   "outputs": [
    {
     "name": "stderr",
     "output_type": "stream",
     "text": [
      "/Users/rhythmgirdhar/Library/Python/3.8/lib/python/site-packages/sklearn/base.py:329: UserWarning: Trying to unpickle estimator CountVectorizer from version 0.23.2 when using version 1.0.2. This might lead to breaking code or invalid results. Use at your own risk. For more info please refer to:\n",
      "https://scikit-learn.org/stable/modules/model_persistence.html#security-maintainability-limitations\n",
      "  warnings.warn(\n",
      "/Users/rhythmgirdhar/Library/Python/3.8/lib/python/site-packages/sklearn/base.py:329: UserWarning: Trying to unpickle estimator MultinomialNB from version 0.23.2 when using version 1.0.2. This might lead to breaking code or invalid results. Use at your own risk. For more info please refer to:\n",
      "https://scikit-learn.org/stable/modules/model_persistence.html#security-maintainability-limitations\n",
      "  warnings.warn(\n"
     ]
    },
    {
     "ename": "TypeError",
     "evalue": "list indices must be integers or slices, not str",
     "output_type": "error",
     "traceback": [
      "\u001b[0;31m---------------------------------------------------------------------------\u001b[0m",
      "\u001b[0;31mTypeError\u001b[0m                                 Traceback (most recent call last)",
      "\u001b[1;32m/Users/rhythmgirdhar/Desktop/MS CS/Projects/MINDScraper/Minds.ipynb Cell 6'\u001b[0m in \u001b[0;36m<cell line: 10>\u001b[0;34m()\u001b[0m\n\u001b[1;32m      <a href='vscode-notebook-cell:/Users/rhythmgirdhar/Desktop/MS%20CS/Projects/MINDScraper/Minds.ipynb#ch0000005?line=5'>6</a>\u001b[0m f \u001b[39m=\u001b[39m \u001b[39mopen\u001b[39m(\u001b[39m'\u001b[39m\u001b[39mdata.json\u001b[39m\u001b[39m'\u001b[39m)\n\u001b[1;32m      <a href='vscode-notebook-cell:/Users/rhythmgirdhar/Desktop/MS%20CS/Projects/MINDScraper/Minds.ipynb#ch0000005?line=7'>8</a>\u001b[0m data \u001b[39m=\u001b[39m json\u001b[39m.\u001b[39mload(f)\n\u001b[0;32m---> <a href='vscode-notebook-cell:/Users/rhythmgirdhar/Desktop/MS%20CS/Projects/MINDScraper/Minds.ipynb#ch0000005?line=9'>10</a>\u001b[0m text \u001b[39m=\u001b[39m data[\u001b[39m'\u001b[39;49m\u001b[39mcontent\u001b[39;49m\u001b[39m'\u001b[39;49m]\n\u001b[1;32m     <a href='vscode-notebook-cell:/Users/rhythmgirdhar/Desktop/MS%20CS/Projects/MINDScraper/Minds.ipynb#ch0000005?line=11'>12</a>\u001b[0m sentimentScore \u001b[39m=\u001b[39m sentiment\u001b[39m.\u001b[39msentiment(text)\n\u001b[1;32m     <a href='vscode-notebook-cell:/Users/rhythmgirdhar/Desktop/MS%20CS/Projects/MINDScraper/Minds.ipynb#ch0000005?line=12'>13</a>\u001b[0m \u001b[39mprint\u001b[39m(sentimentScore)\n",
      "\u001b[0;31mTypeError\u001b[0m: list indices must be integers or slices, not str"
     ]
    }
   ],
   "source": [
    "import json\n",
    "from sentiment_analysis_spanish import sentiment_analysis\n",
    "\n",
    "sentiment = sentiment_analysis.SentimentAnalysisSpanish()\n",
    "\n",
    "f = open('data.json')\n",
    "\n",
    "data = json.load(f)\n",
    "\n",
    "text = data['content']\n",
    "\n",
    "sentimentScore = sentiment.sentiment(text)\n",
    "print(sentimentScore)"
   ]
  },
  {
   "cell_type": "code",
   "execution_count": null,
   "id": "41b5d18d",
   "metadata": {},
   "outputs": [],
   "source": []
  }
 ],
 "metadata": {
  "kernelspec": {
   "display_name": "Python 3 (ipykernel)",
   "language": "python",
   "name": "python3"
  },
  "language_info": {
   "codemirror_mode": {
    "name": "ipython",
    "version": 3
   },
   "file_extension": ".py",
   "mimetype": "text/x-python",
   "name": "python",
   "nbconvert_exporter": "python",
   "pygments_lexer": "ipython3",
   "version": "3.8.9"
  }
 },
 "nbformat": 4,
 "nbformat_minor": 5
}
